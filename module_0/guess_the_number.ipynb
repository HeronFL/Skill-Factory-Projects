{
 "cells": [
  {
   "cell_type": "code",
   "execution_count": 29,
   "metadata": {},
   "outputs": [
    {
     "name": "stdout",
     "output_type": "stream",
     "text": [
      "Алгоритм угадывает число в среднем за 5 попыток.\n"
     ]
    },
    {
     "data": {
      "text/plain": [
       "5"
      ]
     },
     "execution_count": 29,
     "metadata": {},
     "output_type": "execute_result"
    }
   ],
   "source": [
    "'''\n",
    "Компьютер загадывает целое число от 1 до 100 , и нам его нужно угадать.\n",
    "Запустить игру 1000 раз, чтобы узнать, как быстро игра угадывает число\n",
    "'''\n",
    "import numpy as np\n",
    "\n",
    "\n",
    "def game_core_v1(number, border1, border2):\n",
    "    count_step = 0\n",
    "    left_border = border1\n",
    "    right_border = border2\n",
    "    while left_border <= right_border:\n",
    "        middle = (left_border+right_border) // 2 # Найти середину отрезка\n",
    "        count_step += 1\n",
    "        if number < middle:             # Если искомое число меньше середины отрезка, \n",
    "            right_border = middle - 1   # то правую границу сдвинуть к середине отрезка.\n",
    "        elif number > middle:           # Если искомое число больше середины отрезка,\n",
    "            left_border = middle + 1    # то левую границу сдвинуть к середине отрезка\n",
    "        else:                           # Если число найдено,\n",
    "            break                       # то выйти из цикла\n",
    "    else:\n",
    "        raise Exception(f'Загаданное число {number} вне дипазона {border1}, {border2}') \n",
    "    return count_step\n",
    "\n",
    "\n",
    "def score_game(game_core, *, border1=1, border2=100, count_try=1000):\n",
    "    count_ls = []\n",
    "    np.random.seed(1) \n",
    "    random_array = np.random.randint(border1, border2+1, size=count_try)\n",
    "    for number in random_array:\n",
    "        count_ls.append(game_core(number))\n",
    "    score = int(np.mean(count_ls))\n",
    "    print(f\"Алгоритм угадывает число в среднем за {score} попыток.\")\n",
    "    return score\n",
    "\n",
    "\n",
    "score_game(game_core_v1)"
   ]
  },
  {
   "cell_type": "code",
   "execution_count": null,
   "metadata": {},
   "outputs": [],
   "source": []
  }
 ],
 "metadata": {
  "kernelspec": {
   "display_name": "Python 3",
   "language": "python",
   "name": "python3"
  },
  "language_info": {
   "codemirror_mode": {
    "name": "ipython",
    "version": 3
   },
   "file_extension": ".py",
   "mimetype": "text/x-python",
   "name": "python",
   "nbconvert_exporter": "python",
   "pygments_lexer": "ipython3",
   "version": "3.7.6"
  }
 },
 "nbformat": 4,
 "nbformat_minor": 4
}
